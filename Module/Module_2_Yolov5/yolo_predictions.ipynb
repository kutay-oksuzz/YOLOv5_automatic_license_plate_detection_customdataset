{
 "cells": [
  {
   "cell_type": "code",
   "execution_count": 1,
   "id": "1fb40441",
   "metadata": {},
   "outputs": [],
   "source": [
    "import cv2\n",
    "import numpy as np\n",
    "import os\n",
    "import pytesseract as pt"
   ]
  },
  {
   "cell_type": "code",
   "execution_count": 2,
   "id": "a4c28fba",
   "metadata": {},
   "outputs": [],
   "source": [
    "# settings\n",
    "INPUT_WIDTH = 640\n",
    "INPUT_HEIGHT = 640"
   ]
  },
  {
   "cell_type": "code",
   "execution_count": 3,
   "id": "3ba4be4d",
   "metadata": {},
   "outputs": [],
   "source": [
    "# LOAD THE IMAGE\n",
    "img = cv2.imread(\"./test_images/pexels-danila-rusanov-9411656.jpg\")\n",
    "\n",
    "cv2.namedWindow(\"test image\", cv2.WINDOW_KEEPRATIO)\n",
    "cv2.imshow(\"test image\", img)\n",
    "cv2.waitKey()\n",
    "cv2.destroyAllWindows()"
   ]
  },
  {
   "cell_type": "code",
   "execution_count": 4,
   "id": "773528e4",
   "metadata": {},
   "outputs": [],
   "source": [
    "# LOAD YOLO MODEL\n",
    "net = cv2.dnn.readNetFromONNX(\"./Model3/weights/best.onnx\")\n",
    "net.setPreferableBackend(cv2.dnn.DNN_BACKEND_OPENCV)\n",
    "net.setPreferableBackend(cv2.dnn.DNN_TARGET_CPU)"
   ]
  },
  {
   "cell_type": "code",
   "execution_count": 5,
   "id": "f6946e8a",
   "metadata": {},
   "outputs": [],
   "source": [
    "def get_detections(img,net):\n",
    "\n",
    "    # CONVERT IMAGE TO YOLO FORMAT\n",
    "    image = img.copy()\n",
    "    row, col, d = image.shape\n",
    "\n",
    "    max_rc = max(row, col)\n",
    "    input_image = np.zeros((max_rc, max_rc, 3), dtype=np.uint8)\n",
    "    input_image[0:row, 0:col] = image\n",
    "\n",
    "\n",
    "    # GET PREDICTION FROM YOLO MODEL\n",
    "    blob = cv2.dnn.blobFromImage(input_image, 1/255.0, (INPUT_WIDTH, INPUT_HEIGHT),\n",
    "                                swapRB=True, crop=False)\n",
    "    net.setInput(blob)\n",
    "    preds = net.forward()\n",
    "    detections = preds[0]\n",
    "    \n",
    "    return input_image, detections\n",
    "\n",
    "def non_maximum_supression(input_image, detections):    \n",
    "    # FILTER DETECTION BASED ON CONFIDENCE AND PROBILITY SCORE\n",
    "    # center_x, center_y, w, h, confidence, probability\n",
    "    boxes = []\n",
    "    confidences =[]\n",
    "\n",
    "    image_w, image_h = input_image.shape[:2]\n",
    "    x_factor = image_w / INPUT_WIDTH\n",
    "    y_factor = image_h / INPUT_HEIGHT\n",
    "\n",
    "    for i in range(len(detections)):\n",
    "        row = detections[i]\n",
    "        confidence = row[4] # confidence of detecting license plate\n",
    "\n",
    "        if confidence > 0.4: \n",
    "            class_score = row[5] # probability score of license plate\n",
    "\n",
    "            if class_score > 0.25:\n",
    "                cx, cy, w, h = row[0:4]\n",
    "\n",
    "                left = int((cx - 0.5*w)*x_factor)\n",
    "                top = int((cy-0.5*h)*y_factor)\n",
    "                width = int(w*x_factor)\n",
    "                height = int(h*y_factor)\n",
    "                box = np.array([left, top, width, height])\n",
    "\n",
    "                confidences.append(confidence)\n",
    "                boxes.append(box)\n",
    "\n",
    "    # clean\n",
    "    boxes_np = np.array(boxes).tolist()\n",
    "    confidences_np = np.array(confidences).tolist()\n",
    "\n",
    "    # NMS\n",
    "    index = cv2.dnn.NMSBoxes(boxes_np, confidences_np, 0.25, 0.45).flatten()\n",
    "    \n",
    "    return boxes_np, confidences_np, index\n",
    "\n",
    "def drawing(image, boxes_np, confidences_np, index):\n",
    "    # Draw the Bounding\n",
    "    for ind in index:\n",
    "        x, y, w, h = boxes_np[ind]\n",
    "        bb_conf = confidences_np[ind]\n",
    "        text = \"plate: {:.0f}%\".format(bb_conf*100)\n",
    "        license_text = extract_text(image, boxes_np[ind])\n",
    "        \n",
    "        cv2.rectangle(image, (x,y), (x+w, y+h), (255, 0, 255), 2)\n",
    "        cv2.rectangle(image, (x, y-30), (x+w, y), (255, 0, 255), -1)\n",
    "        cv2.rectangle(image, (x, y+h), (x+w, y+h+30), (255,255,255),-1)\n",
    "\n",
    "\n",
    "\n",
    "        cv2.putText(image, text, (x, y-10), cv2.FONT_HERSHEY_SIMPLEX, 0.7, (255, 255, 255), 1)\n",
    "        cv2.putText(image, license_text, (x, y+h+27), cv2.FONT_HERSHEY_SIMPLEX, 0.7, (0, 255, 0), 1)\n",
    "        \n",
    "        return image    "
   ]
  },
  {
   "cell_type": "code",
   "execution_count": 6,
   "id": "7502012d",
   "metadata": {},
   "outputs": [],
   "source": [
    "# predictions\n",
    "def yolo_predictions(img, net):\n",
    "    ## step:1 detections\n",
    "    input_image, detections = get_detections(img, net)\n",
    "\n",
    "    ## step:2 NMS\n",
    "    boxes_np, confidences_np, index = non_maximum_supression(input_image, detections)\n",
    "\n",
    "    # step: 3 Drawings\n",
    "    result_img = drawing(img, boxes_np, confidences_np, index)\n",
    "    \n",
    "    return result_img"
   ]
  },
  {
   "cell_type": "code",
   "execution_count": 7,
   "id": "46fc9f14",
   "metadata": {},
   "outputs": [],
   "source": [
    "def extract_text(image, bbox):\n",
    "    x, y, w, h = bbox\n",
    "    roi = image[y:y+h, x:x+w]\n",
    "    \n",
    "    if 0 in roi.shape:\n",
    "        return \"\"\n",
    "    \n",
    "    else:\n",
    "        text = pt.image_to_string(roi)\n",
    "        text = text.strip()\n",
    "        \n",
    "        return text"
   ]
  },
  {
   "cell_type": "code",
   "execution_count": 19,
   "id": "d5edc370",
   "metadata": {},
   "outputs": [],
   "source": [
    "# test \n",
    "img = cv2.imread(\"./test_images/pexels-mali-maeder-105598.jpg\")\n",
    "results = yolo_predictions(img, net)"
   ]
  },
  {
   "cell_type": "code",
   "execution_count": 20,
   "id": "2727441f",
   "metadata": {},
   "outputs": [],
   "source": [
    "cv2.namedWindow(\"results\", cv2.WINDOW_KEEPRATIO)    \n",
    "cv2.imshow(\"results\", results)\n",
    "cv2.waitKey(0)\n",
    "cv2.destroyAllWindows()"
   ]
  },
  {
   "cell_type": "code",
   "execution_count": 10,
   "id": "6c42120b",
   "metadata": {},
   "outputs": [
    {
     "name": "stdout",
     "output_type": "stream",
     "text": [
      "[INFO] ERROR!!!\n"
     ]
    }
   ],
   "source": [
    "### Real Time Object Detection\n",
    "cap = cv2.VideoCapture(\"./test_videos/Pexels Videos 2103099.mp4\")\n",
    "\n",
    "while True:\n",
    "    ret, frame = cap.read()\n",
    "    \n",
    "    if ret == False:\n",
    "        print(\"[INFO] ERROR!!!\")\n",
    "        break\n",
    "    \n",
    "    results = yolo_predictions(frame, net)\n",
    "    \n",
    "    cv2.namedWindow(\"YOLO\", cv2.WINDOW_KEEPRATIO)\n",
    "    cv2.imshow(\"YOLO\", results)\n",
    "    \n",
    "    if cv2.waitKey(1) == 27:\n",
    "        break\n",
    "cv2.destroyAllWindows()\n",
    "cap.release()"
   ]
  },
  {
   "cell_type": "code",
   "execution_count": 45,
   "id": "df9d31e8",
   "metadata": {},
   "outputs": [],
   "source": []
  }
 ],
 "metadata": {
  "kernelspec": {
   "display_name": "Python 3 (ipykernel)",
   "language": "python",
   "name": "python3"
  },
  "language_info": {
   "codemirror_mode": {
    "name": "ipython",
    "version": 3
   },
   "file_extension": ".py",
   "mimetype": "text/x-python",
   "name": "python",
   "nbconvert_exporter": "python",
   "pygments_lexer": "ipython3",
   "version": "3.9.13"
  }
 },
 "nbformat": 4,
 "nbformat_minor": 5
}
